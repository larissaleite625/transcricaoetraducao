{
 "cells": [
  {
   "cell_type": "code",
   "execution_count": 1,
   "metadata": {},
   "outputs": [],
   "source": [
    "import os\n",
    "import time\n",
    "import whisper\n",
    "from yt_dlp import YoutubeDL\n",
    "import openai"
   ]
  },
  {
   "cell_type": "code",
   "execution_count": 2,
   "metadata": {},
   "outputs": [],
   "source": [
    "openai.api_key = os.getenv('OPENAI_API_KEY')"
   ]
  },
  {
   "cell_type": "code",
   "execution_count": 3,
   "metadata": {},
   "outputs": [],
   "source": [
    "video_urls = ['https://www.youtube.com/watch?v=pEEMi2j6lYE',  # Stranger In Moscow - Ingles\n",
    "              'https://www.youtube.com/watch?v=-L6RtIEUqGE',  # Vivo Per Lei - Italiano\n",
    "              'https://www.youtube.com/watch?v=TJYLncp33EY',  # Usted - Espanhol \n",
    "              'https://www.youtube.com/watch?v=7UTEImYY5Fk',  # Don't Hurt Yourself - Ingles\n",
    "              'https://www.youtube.com/watch?v=C8QxjB8mV4o',  # Первый  - Russo\n",
    "              'https://www.youtube.com/watch?v=KpsJWFuVTdI',  # Blue Bird - Japones\n",
    "              'https://www.youtube.com/watch?v=StZcUAPRRac'   # Sonne - Alemão\n",
    "            ]"
   ]
  },
  {
   "cell_type": "code",
   "execution_count": 4,
   "metadata": {},
   "outputs": [],
   "source": [
    "ydl_opts = {\n",
    "    'format': 'bestaudio/best',\n",
    "    'postprocessors': [{\n",
    "        'key': 'FFmpegExtractAudio',\n",
    "        'preferredcodec': 'mp3',\n",
    "        'preferredquality': '192',\n",
    "    }],\n",
    "    'outtmpl': '%(title)s.%(ext)s',\n",
    "}"
   ]
  },
  {
   "cell_type": "markdown",
   "metadata": {},
   "source": [
    "#  Baixa os áudios dos vídeos do YouTube, salvando-os com o título do vídeo."
   ]
  },
  {
   "cell_type": "code",
   "execution_count": 5,
   "metadata": {},
   "outputs": [],
   "source": [
    "def baixar_videos(video_urls):\n",
    "    with YoutubeDL(ydl_opts) as ydl:\n",
    "        def my_hook(d):\n",
    "            if d['status'] == 'finished':\n",
    "                print(f\"Download completo: {d['filename']}\")\n",
    "\n",
    "        ydl.add_progress_hook(my_hook)\n",
    "\n",
    "        for index, video_url in enumerate(video_urls, start=1):\n",
    "            print(f'Baixando {index} de {len(video_urls)}: {video_url}')\n",
    "            try:\n",
    "                ydl.download([video_url])\n",
    "            except Exception as e:\n",
    "                print(f\"Erro ao baixar o vídeo {video_url}: {e}\")"
   ]
  },
  {
   "cell_type": "markdown",
   "metadata": {},
   "source": [
    "# Converte pra mp3"
   ]
  },
  {
   "cell_type": "code",
   "execution_count": 6,
   "metadata": {},
   "outputs": [],
   "source": [
    "def renomear_para_mp3():\n",
    "    for arquivo in os.listdir('.'):\n",
    "        if arquivo.endswith('.webm'):\n",
    "            nome_base = os.path.splitext(arquivo)[0]\n",
    "            novo_nome = f'{nome_base}.mp3'\n",
    "            os.rename(arquivo, novo_nome)"
   ]
  },
  {
   "cell_type": "markdown",
   "metadata": {},
   "source": [
    "# Transcrevendo"
   ]
  },
  {
   "cell_type": "code",
   "execution_count": 7,
   "metadata": {},
   "outputs": [],
   "source": [
    "def transcrever_e_salvar(caminho='.', modelo='large'):\n",
    "    print(f\"Carregando o modelo Whisper {modelo}\")\n",
    "    modelo_whisper = whisper.load_model(modelo)\n",
    "    print(\"Modelo carregado com sucesso.\")\n",
    "\n",
    "    arquivos_mp3 = [arq for arq in os.listdir(caminho) if arq.endswith('.mp3')]\n",
    "    total_arquivos = len(arquivos_mp3)\n",
    "\n",
    "    print(f\"Iniciando transcrição de {total_arquivos} arquivos .mp3...\")\n",
    "    for index, arquivo_audio in enumerate(arquivos_mp3, start=1):\n",
    "        print(f\"Transcrevendo arquivo {index} de {total_arquivos}: {arquivo_audio}\")\n",
    "        caminho_completo_audio = os.path.join(caminho, arquivo_audio)\n",
    "        \n",
    "        try:\n",
    "            resultado = modelo_whisper.transcribe(caminho_completo_audio)\n",
    "            texto_transcrito = resultado[\"text\"]\n",
    "            nome_arquivo_saida = f'resultado_{arquivo_audio[:-4]}.txt'\n",
    "            with open(nome_arquivo_saida, \"w\", encoding='utf-8') as arquivo_texto:\n",
    "                arquivo_texto.write(texto_transcrito)\n",
    "            print(f\"Transcrição do arquivo {arquivo_audio} concluída e salva como {nome_arquivo_saida}.\")\n",
    "        except Exception as e:\n",
    "            print(f\"Erro durante a transcrição do arquivo {arquivo_audio}: {e}\")\n",
    "\n",
    "    print(\"Transcrição de todos os arquivos completada.\")\n"
   ]
  },
  {
   "cell_type": "markdown",
   "metadata": {},
   "source": [
    "# Contas qual tamanho de cada arquivo para estimar os custos"
   ]
  },
  {
   "cell_type": "code",
   "execution_count": 8,
   "metadata": {},
   "outputs": [],
   "source": [
    "def contar_caracteres_em_arquivos_txt(pasta):\n",
    "    arquivos_txt = [arquivo for arquivo in os.listdir(pasta) if arquivo.endswith('.txt')]\n",
    "    for arquivo_txt in arquivos_txt:\n",
    "        caminho_arquivo = os.path.join(pasta, arquivo_txt)\n",
    "        with open(caminho_arquivo, 'r', encoding='utf-8') as f:\n",
    "            conteudo = f.read()\n",
    "            print(f\"{arquivo_txt} - {len(conteudo)} caracteres\")"
   ]
  },
  {
   "cell_type": "markdown",
   "metadata": {},
   "source": [
    "# Traduz o conteúdo do arquivo de texto e salva o resultado."
   ]
  },
  {
   "cell_type": "code",
   "execution_count": 17,
   "metadata": {},
   "outputs": [],
   "source": [
    "def traduzir_e_salvar(caminho_arquivo):\n",
    "    with open(caminho_arquivo, 'r', encoding='utf-8') as file:\n",
    "        texto = file.read()\n",
    "    resposta = openai.ChatCompletion.create(\n",
    "      model=\"gpt-4\",\n",
    "      messages=[\n",
    "          {\"role\": \"system\", \"content\": \"Translate everthing to Portuguese without taking the slang and particularities of each language out of context\"},\n",
    "          {\"role\": \"user\", \"content\": texto}\n",
    "      ]\n",
    "    )\n",
    "    texto_tradu = resposta.choices[0].message['content']\n",
    "    with open(f'portugues_{os.path.basename(caminho_arquivo)}', 'w', encoding='utf-8') as f:\n",
    "        f.write(texto_tradu)\n"
   ]
  },
  {
   "cell_type": "code",
   "execution_count": 10,
   "metadata": {},
   "outputs": [],
   "source": [
    "def traduzir_e_salvar(caminho_arquivo):\n",
    "    \"\"\"Traduz o conteúdo do arquivo de texto e salva o resultado.\"\"\"\n",
    "    with open(caminho_arquivo, 'r', encoding='utf-8') as file:\n",
    "        texto = file.read()\n",
    "    resposta = openai.ChatCompletion.create(\n",
    "      model=\"gpt-4\",\n",
    "      messages=[\n",
    "          {\"role\": \"system\", \"content\": \"You are a highly skilled translator fluent in English and Portuguese...\"},\n",
    "          {\"role\": \"user\", \"content\": texto}\n",
    "      ]\n",
    "    )\n",
    "    texto_tradu = resposta.choices[0].message['content']\n",
    "    with open(f'translated_{os.path.basename(caminho_arquivo)}', 'w', encoding='utf-8') as f:\n",
    "        f.write(texto_tradu)\n"
   ]
  },
  {
   "cell_type": "code",
   "execution_count": 11,
   "metadata": {},
   "outputs": [
    {
     "name": "stdout",
     "output_type": "stream",
     "text": [
      "Baixando 1 de 7: https://www.youtube.com/watch?v=pEEMi2j6lYE\n",
      "[youtube] Extracting URL: https://www.youtube.com/watch?v=pEEMi2j6lYE\n",
      "[youtube] pEEMi2j6lYE: Downloading webpage\n",
      "[youtube] pEEMi2j6lYE: Downloading ios player API JSON\n",
      "[youtube] pEEMi2j6lYE: Downloading android player API JSON\n"
     ]
    },
    {
     "name": "stderr",
     "output_type": "stream",
     "text": [
      "WARNING: [youtube] Skipping player responses from android clients (got player responses for video \"aQvGIIdgFDM\" instead of \"pEEMi2j6lYE\")\n"
     ]
    },
    {
     "name": "stdout",
     "output_type": "stream",
     "text": [
      "[youtube] pEEMi2j6lYE: Downloading m3u8 information\n",
      "[info] pEEMi2j6lYE: Downloading 1 format(s): 251\n",
      "[download] Destination: Michael Jackson - Stranger In Moscow (Official Video).webm\n",
      "[download] 100% of    5.51MiB in 00:00:00 at 28.90MiB/s  Download completo: Michael Jackson - Stranger In Moscow (Official Video).webm\n",
      "\n",
      "[ExtractAudio] Destination: Michael Jackson - Stranger In Moscow (Official Video).mp3\n"
     ]
    },
    {
     "name": "stderr",
     "output_type": "stream",
     "text": [
      "ERROR: Postprocessing: audio conversion failed: Error opening output files: Encoder not found\n"
     ]
    },
    {
     "name": "stdout",
     "output_type": "stream",
     "text": [
      "Erro ao baixar o vídeo https://www.youtube.com/watch?v=pEEMi2j6lYE: ERROR: Postprocessing: audio conversion failed: Error opening output files: Encoder not found\n",
      "Baixando 2 de 7: https://www.youtube.com/watch?v=-L6RtIEUqGE\n",
      "[youtube] Extracting URL: https://www.youtube.com/watch?v=-L6RtIEUqGE\n",
      "[youtube] -L6RtIEUqGE: Downloading webpage\n",
      "[youtube] -L6RtIEUqGE: Downloading ios player API JSON\n",
      "[youtube] -L6RtIEUqGE: Downloading android player API JSON\n"
     ]
    },
    {
     "name": "stderr",
     "output_type": "stream",
     "text": [
      "WARNING: [youtube] Skipping player responses from android clients (got player responses for video \"aQvGIIdgFDM\" instead of \"-L6RtIEUqGE\")\n"
     ]
    },
    {
     "name": "stdout",
     "output_type": "stream",
     "text": [
      "[youtube] -L6RtIEUqGE: Downloading m3u8 information\n",
      "[info] -L6RtIEUqGE: Downloading 1 format(s): 251\n",
      "[download] Destination: Vivo Per Lei.webm\n",
      "[download] 100% of    4.28MiB in 00:00:00 at 17.68MiB/s  Download completo: Vivo Per Lei.webm\n",
      "\n",
      "[ExtractAudio] Destination: Vivo Per Lei.mp3\n"
     ]
    },
    {
     "name": "stderr",
     "output_type": "stream",
     "text": [
      "ERROR: Postprocessing: audio conversion failed: Error opening output files: Encoder not found\n"
     ]
    },
    {
     "name": "stdout",
     "output_type": "stream",
     "text": [
      "Erro ao baixar o vídeo https://www.youtube.com/watch?v=-L6RtIEUqGE: ERROR: Postprocessing: audio conversion failed: Error opening output files: Encoder not found\n",
      "Baixando 3 de 7: https://www.youtube.com/watch?v=TJYLncp33EY\n",
      "[youtube] Extracting URL: https://www.youtube.com/watch?v=TJYLncp33EY\n",
      "[youtube] TJYLncp33EY: Downloading webpage\n",
      "[youtube] TJYLncp33EY: Downloading ios player API JSON\n",
      "[youtube] TJYLncp33EY: Downloading android player API JSON\n"
     ]
    },
    {
     "name": "stderr",
     "output_type": "stream",
     "text": [
      "WARNING: [youtube] Skipping player responses from android clients (got player responses for video \"aQvGIIdgFDM\" instead of \"TJYLncp33EY\")\n"
     ]
    },
    {
     "name": "stdout",
     "output_type": "stream",
     "text": [
      "[youtube] TJYLncp33EY: Downloading m3u8 information\n",
      "[info] TJYLncp33EY: Downloading 1 format(s): 251\n",
      "[download] Destination: Usted.webm\n",
      "[download] 100% of    3.61MiB in 00:00:00 at 20.72MiB/s  Download completo: Usted.webm\n",
      "\n",
      "[ExtractAudio] Destination: Usted.mp3\n"
     ]
    },
    {
     "name": "stderr",
     "output_type": "stream",
     "text": [
      "ERROR: Postprocessing: audio conversion failed: Error opening output files: Encoder not found\n"
     ]
    },
    {
     "name": "stdout",
     "output_type": "stream",
     "text": [
      "Erro ao baixar o vídeo https://www.youtube.com/watch?v=TJYLncp33EY: ERROR: Postprocessing: audio conversion failed: Error opening output files: Encoder not found\n",
      "Baixando 4 de 7: https://www.youtube.com/watch?v=7UTEImYY5Fk\n",
      "[youtube] Extracting URL: https://www.youtube.com/watch?v=7UTEImYY5Fk\n",
      "[youtube] 7UTEImYY5Fk: Downloading webpage\n",
      "[youtube] 7UTEImYY5Fk: Downloading ios player API JSON\n",
      "[youtube] 7UTEImYY5Fk: Downloading android player API JSON\n"
     ]
    },
    {
     "name": "stderr",
     "output_type": "stream",
     "text": [
      "WARNING: [youtube] Skipping player responses from android clients (got player responses for video \"aQvGIIdgFDM\" instead of \"7UTEImYY5Fk\")\n"
     ]
    },
    {
     "name": "stdout",
     "output_type": "stream",
     "text": [
      "[youtube] 7UTEImYY5Fk: Downloading m3u8 information\n",
      "[info] 7UTEImYY5Fk: Downloading 1 format(s): 251\n",
      "[download] Destination: Beyoncé - Don't Hurt Yourself (LEGENDADO).webm\n",
      "[download] 100% of    2.43MiB in 00:00:00 at 14.48MiB/s  Download completo: Beyoncé - Don't Hurt Yourself (LEGENDADO).webm\n",
      "\n",
      "[ExtractAudio] Destination: Beyoncé - Don't Hurt Yourself (LEGENDADO).mp3\n"
     ]
    },
    {
     "name": "stderr",
     "output_type": "stream",
     "text": [
      "ERROR: Postprocessing: audio conversion failed: Error opening output files: Encoder not found\n"
     ]
    },
    {
     "name": "stdout",
     "output_type": "stream",
     "text": [
      "Erro ao baixar o vídeo https://www.youtube.com/watch?v=7UTEImYY5Fk: ERROR: Postprocessing: audio conversion failed: Error opening output files: Encoder not found\n",
      "Baixando 5 de 7: https://www.youtube.com/watch?v=C8QxjB8mV4o\n",
      "[youtube] Extracting URL: https://www.youtube.com/watch?v=C8QxjB8mV4o\n",
      "[youtube] C8QxjB8mV4o: Downloading webpage\n",
      "[youtube] C8QxjB8mV4o: Downloading ios player API JSON\n",
      "[youtube] C8QxjB8mV4o: Downloading android player API JSON\n"
     ]
    },
    {
     "name": "stderr",
     "output_type": "stream",
     "text": [
      "WARNING: [youtube] Skipping player responses from android clients (got player responses for video \"aQvGIIdgFDM\" instead of \"C8QxjB8mV4o\")\n"
     ]
    },
    {
     "name": "stdout",
     "output_type": "stream",
     "text": [
      "[youtube] C8QxjB8mV4o: Downloading m3u8 information\n",
      "[info] C8QxjB8mV4o: Downloading 1 format(s): 251\n",
      "[download] Destination: [AMATORY] - Первый  (Official video).webm\n",
      "[download] 100% of    3.03MiB in 00:00:00 at 11.09MiB/s  Download completo: [AMATORY] - Первый  (Official video).webm\n",
      "\n",
      "[ExtractAudio] Destination: [AMATORY] - Первый  (Official video).mp3\n"
     ]
    },
    {
     "name": "stderr",
     "output_type": "stream",
     "text": [
      "ERROR: Postprocessing: audio conversion failed: Error opening output files: Encoder not found\n"
     ]
    },
    {
     "name": "stdout",
     "output_type": "stream",
     "text": [
      "Erro ao baixar o vídeo https://www.youtube.com/watch?v=C8QxjB8mV4o: ERROR: Postprocessing: audio conversion failed: Error opening output files: Encoder not found\n",
      "Baixando 6 de 7: https://www.youtube.com/watch?v=KpsJWFuVTdI\n",
      "[youtube] Extracting URL: https://www.youtube.com/watch?v=KpsJWFuVTdI\n",
      "[youtube] KpsJWFuVTdI: Downloading webpage\n",
      "[youtube] KpsJWFuVTdI: Downloading ios player API JSON\n",
      "[youtube] KpsJWFuVTdI: Downloading android player API JSON\n"
     ]
    },
    {
     "name": "stderr",
     "output_type": "stream",
     "text": [
      "WARNING: [youtube] Skipping player responses from android clients (got player responses for video \"aQvGIIdgFDM\" instead of \"KpsJWFuVTdI\")\n"
     ]
    },
    {
     "name": "stdout",
     "output_type": "stream",
     "text": [
      "[youtube] KpsJWFuVTdI: Downloading m3u8 information\n",
      "[info] KpsJWFuVTdI: Downloading 1 format(s): 251\n",
      "[download] Destination: いきものがかり 『ブルーバード』Music Video.webm\n",
      "[download] 100% of    3.43MiB in 00:00:00 at 24.31MiB/s  Download completo: いきものがかり 『ブルーバード』Music Video.webm\n",
      "\n",
      "[ExtractAudio] Destination: いきものがかり 『ブルーバード』Music Video.mp3\n"
     ]
    },
    {
     "name": "stderr",
     "output_type": "stream",
     "text": [
      "ERROR: Postprocessing: audio conversion failed: Error opening output files: Encoder not found\n"
     ]
    },
    {
     "name": "stdout",
     "output_type": "stream",
     "text": [
      "Erro ao baixar o vídeo https://www.youtube.com/watch?v=KpsJWFuVTdI: ERROR: Postprocessing: audio conversion failed: Error opening output files: Encoder not found\n",
      "Baixando 7 de 7: https://www.youtube.com/watch?v=StZcUAPRRac\n",
      "[youtube] Extracting URL: https://www.youtube.com/watch?v=StZcUAPRRac\n",
      "[youtube] StZcUAPRRac: Downloading webpage\n",
      "[youtube] StZcUAPRRac: Downloading ios player API JSON\n",
      "[youtube] StZcUAPRRac: Downloading android player API JSON\n"
     ]
    },
    {
     "name": "stderr",
     "output_type": "stream",
     "text": [
      "WARNING: [youtube] Skipping player responses from android clients (got player responses for video \"aQvGIIdgFDM\" instead of \"StZcUAPRRac\")\n"
     ]
    },
    {
     "name": "stdout",
     "output_type": "stream",
     "text": [
      "[youtube] StZcUAPRRac: Downloading m3u8 information\n",
      "[info] StZcUAPRRac: Downloading 1 format(s): 251\n",
      "[download] Destination: Rammstein - Sonne (Official Video).webm\n",
      "[download] 100% of    3.68MiB in 00:00:00 at 27.87MiB/s  Download completo: Rammstein - Sonne (Official Video).webm\n",
      "\n",
      "[ExtractAudio] Destination: Rammstein - Sonne (Official Video).mp3\n"
     ]
    },
    {
     "name": "stderr",
     "output_type": "stream",
     "text": [
      "ERROR: Postprocessing: audio conversion failed: Error opening output files: Encoder not found\n"
     ]
    },
    {
     "name": "stdout",
     "output_type": "stream",
     "text": [
      "Erro ao baixar o vídeo https://www.youtube.com/watch?v=StZcUAPRRac: ERROR: Postprocessing: audio conversion failed: Error opening output files: Encoder not found\n"
     ]
    }
   ],
   "source": [
    "baixar_videos(video_urls)"
   ]
  },
  {
   "cell_type": "code",
   "execution_count": 12,
   "metadata": {},
   "outputs": [],
   "source": [
    "renomear_para_mp3()"
   ]
  },
  {
   "cell_type": "code",
   "execution_count": 13,
   "metadata": {},
   "outputs": [
    {
     "name": "stdout",
     "output_type": "stream",
     "text": [
      "Carregando o modelo Whisper large\n"
     ]
    },
    {
     "name": "stdout",
     "output_type": "stream",
     "text": [
      "Modelo carregado com sucesso.\n",
      "Iniciando transcrição de 7 arquivos .mp3...\n",
      "Transcrevendo arquivo 1 de 7: Beyoncé - Don't Hurt Yourself (LEGENDADO).mp3\n"
     ]
    },
    {
     "name": "stderr",
     "output_type": "stream",
     "text": [
      "c:\\Users\\PC\\anaconda3\\Lib\\site-packages\\whisper\\transcribe.py:115: UserWarning: FP16 is not supported on CPU; using FP32 instead\n",
      "  warnings.warn(\"FP16 is not supported on CPU; using FP32 instead\")\n"
     ]
    },
    {
     "name": "stdout",
     "output_type": "stream",
     "text": [
      "Transcrição do arquivo Beyoncé - Don't Hurt Yourself (LEGENDADO).mp3 concluída e salva como resultado_Beyoncé - Don't Hurt Yourself (LEGENDADO).txt.\n",
      "Transcrevendo arquivo 2 de 7: Michael Jackson - Stranger In Moscow (Official Video).mp3\n",
      "Transcrição do arquivo Michael Jackson - Stranger In Moscow (Official Video).mp3 concluída e salva como resultado_Michael Jackson - Stranger In Moscow (Official Video).txt.\n",
      "Transcrevendo arquivo 3 de 7: Rammstein - Sonne (Official Video).mp3\n",
      "Transcrição do arquivo Rammstein - Sonne (Official Video).mp3 concluída e salva como resultado_Rammstein - Sonne (Official Video).txt.\n",
      "Transcrevendo arquivo 4 de 7: Usted.mp3\n",
      "Transcrição do arquivo Usted.mp3 concluída e salva como resultado_Usted.txt.\n",
      "Transcrevendo arquivo 5 de 7: Vivo Per Lei.mp3\n",
      "Transcrição do arquivo Vivo Per Lei.mp3 concluída e salva como resultado_Vivo Per Lei.txt.\n",
      "Transcrevendo arquivo 6 de 7: [AMATORY] - Первый  (Official video).mp3\n",
      "Transcrição do arquivo [AMATORY] - Первый  (Official video).mp3 concluída e salva como resultado_[AMATORY] - Первый  (Official video).txt.\n",
      "Transcrevendo arquivo 7 de 7: いきものがかり 『ブルーバード』Music Video.mp3\n",
      "Transcrição do arquivo いきものがかり 『ブルーバード』Music Video.mp3 concluída e salva como resultado_いきものがかり 『ブルーバード』Music Video.txt.\n",
      "Transcrição de todos os arquivos completada.\n"
     ]
    }
   ],
   "source": [
    "transcrever_e_salvar(caminho='.', modelo='large')"
   ]
  },
  {
   "cell_type": "code",
   "execution_count": 14,
   "metadata": {},
   "outputs": [
    {
     "name": "stdout",
     "output_type": "stream",
     "text": [
      "resultado_Beyoncé - Don't Hurt Yourself (LEGENDADO).txt - 1579 caracteres\n",
      "resultado_Michael Jackson - Stranger In Moscow (Official Video).txt - 2090 caracteres\n",
      "resultado_Rammstein - Sonne (Official Video).txt - 1157 caracteres\n",
      "resultado_Usted.txt - 1087 caracteres\n",
      "resultado_Vivo Per Lei.txt - 1537 caracteres\n",
      "resultado_[AMATORY] - Первый  (Official video).txt - 908 caracteres\n",
      "resultado_いきものがかり 『ブルーバード』Music Video.txt - 507 caracteres\n"
     ]
    }
   ],
   "source": [
    "pasta = '.'  # Atualize conforme necessário\n",
    "contar_caracteres_em_arquivos_txt(pasta)"
   ]
  },
  {
   "cell_type": "code",
   "execution_count": 18,
   "metadata": {},
   "outputs": [],
   "source": [
    "arquivos_para_traduzir = [f for f in os.listdir('.') if f.startswith('resultado_') and f.endswith('.txt')]\n",
    "for arquivo in arquivos_para_traduzir:\n",
    "    traduzir_e_salvar(arquivo)"
   ]
  },
  {
   "cell_type": "code",
   "execution_count": null,
   "metadata": {},
   "outputs": [],
   "source": []
  }
 ],
 "metadata": {
  "kernelspec": {
   "display_name": "base",
   "language": "python",
   "name": "python3"
  },
  "language_info": {
   "codemirror_mode": {
    "name": "ipython",
    "version": 3
   },
   "file_extension": ".py",
   "mimetype": "text/x-python",
   "name": "python",
   "nbconvert_exporter": "python",
   "pygments_lexer": "ipython3",
   "version": "3.11.7"
  }
 },
 "nbformat": 4,
 "nbformat_minor": 2
}
